{
 "cells": [
  {
   "cell_type": "code",
   "execution_count": 20,
   "metadata": {
    "collapsed": true
   },
   "outputs": [],
   "source": [
    "import numpy as np\n",
    "import tensorflow as tf\n",
    "import matplotlib.pyplot as plt"
   ]
  },
  {
   "cell_type": "code",
   "execution_count": 21,
   "metadata": {
    "collapsed": false
   },
   "outputs": [
    {
     "name": "stdout",
     "output_type": "stream",
     "text": [
      "Extracting data/fashion/train-images-idx3-ubyte.gz\n",
      "Extracting data/fashion/train-labels-idx1-ubyte.gz\n",
      "Extracting data/fashion/t10k-images-idx3-ubyte.gz\n",
      "Extracting data/fashion/t10k-labels-idx1-ubyte.gz\n"
     ]
    }
   ],
   "source": [
    "from tensorflow.examples.tutorials.mnist import input_data\n",
    "data = input_data.read_data_sets('data/fashion', one_hot=True)"
   ]
  },
  {
   "cell_type": "code",
   "execution_count": 22,
   "metadata": {
    "collapsed": true
   },
   "outputs": [],
   "source": [
    "X_train = data.train.images\n",
    "y_train = data.train.labels\n",
    "\n",
    "X_test = data.test.images\n",
    "y_test = data.test.labels"
   ]
  },
  {
   "cell_type": "code",
   "execution_count": 23,
   "metadata": {
    "collapsed": false
   },
   "outputs": [
    {
     "name": "stdout",
     "output_type": "stream",
     "text": [
      "(55000, 784)\n",
      "(55000, 10)\n"
     ]
    }
   ],
   "source": [
    "print (X_train.shape)\n",
    "print (y_train.shape)"
   ]
  },
  {
   "cell_type": "code",
   "execution_count": 24,
   "metadata": {
    "collapsed": true
   },
   "outputs": [],
   "source": [
    "index2label = {0 : \"T-shirt/top\",\n",
    "               1 : \"Trouser\",\n",
    "               2 : \"Pullover\",\n",
    "               3 : \"Dress\",\n",
    "               4 : \"Coat\",\n",
    "               5 : \"Sandal\",\n",
    "               6 : \"Shirt\",\n",
    "               7 : \"Sneaker\",\n",
    "               8 : \"Bag\",\n",
    "               9 : \"Ankle boot\",\n",
    "              }"
   ]
  },
  {
   "cell_type": "code",
   "execution_count": 25,
   "metadata": {
    "collapsed": true
   },
   "outputs": [],
   "source": [
    "def display_digit(x, y, i):\n",
    "    s = [i for i,x in enumerate(y_train[i]) if x == 1]\n",
    "    label = index2label.get(s[0])\n",
    "    image = x[i].reshape([28,28])\n",
    "    plt.title('Example: %d  Label: %s' % (i, label))\n",
    "    plt.imshow(image, cmap=plt.get_cmap('gray'))\n",
    "    plt.show()\n",
    "\n",
    "def display_mult_flat(start, stop, x):\n",
    "    images = x[start].reshape([1,784])\n",
    "    for i in range(start + 1, stop):\n",
    "        images = np.concatenate((images, x[i].reshape([1,784])))\n",
    "    plt.imshow(images, cmap=plt.get_cmap('gray'))\n",
    "    plt.show()"
   ]
  },
  {
   "cell_type": "code",
   "execution_count": 26,
   "metadata": {
    "collapsed": false
   },
   "outputs": [
    {
     "data": {
      "image/png": "[encoded data removed]",
      "text/plain": [
       "<matplotlib.figure.Figure at 0x12983ee10>"
      ]
     },
     "metadata": {},
     "output_type": "display_data"
    }
   ],
   "source": [
    "display_digit(X_train, y_train, 10101)"
   ]
  },
  {
   "cell_type": "code",
   "execution_count": 27,
   "metadata": {
    "collapsed": false
   },
   "outputs": [
    {
     "data": {
      "image/png": "[encoded data removed]",
      "text/plain": [
       "<matplotlib.figure.Figure at 0x1298f7eb8>"
      ]
     },
     "metadata": {},
     "output_type": "display_data"
    }
   ],
   "source": [
    "display_digit(X_train, y_train, 20202)"
   ]
  },
  {
   "cell_type": "code",
   "execution_count": 28,
   "metadata": {
    "collapsed": false
   },
   "outputs": [],
   "source": [
    "X = tf.placeholder(tf.float32, shape=(None, 784))\n",
    "y_ = tf.placeholder(tf.float32, shape=(None, 10))"
   ]
  },
  {
   "cell_type": "code",
   "execution_count": 29,
   "metadata": {
    "collapsed": true
   },
   "outputs": [],
   "source": [
    "learning_rate = tf.placeholder(tf.float32)\n",
    "prob = tf.placeholder(tf.float32)"
   ]
  },
  {
   "cell_type": "code",
   "execution_count": 30,
   "metadata": {
    "collapsed": false
   },
   "outputs": [],
   "source": [
    "W1 = tf.Variable(tf.truncated_normal([784, 200], stddev=0.1))  # 784 = 28 * 28\n",
    "B1 = tf.Variable(tf.zeros([200]))\n",
    "W2 = tf.Variable(tf.truncated_normal([200, 100], stddev=0.1))\n",
    "B2 = tf.Variable(tf.zeros([100]))\n",
    "W3 = tf.Variable(tf.truncated_normal([100, 50], stddev=0.1))\n",
    "B3 = tf.Variable(tf.zeros([50]))\n",
    "W4 = tf.Variable(tf.truncated_normal([50, 32], stddev=0.1))\n",
    "B4 = tf.Variable(tf.zeros([32]))\n",
    "W5 = tf.Variable(tf.truncated_normal([32, 10], stddev=0.1))\n",
    "B5 = tf.Variable(tf.zeros([10]))"
   ]
  },
  {
   "cell_type": "code",
   "execution_count": 31,
   "metadata": {
    "collapsed": false
   },
   "outputs": [],
   "source": [
    "y = tf.nn.relu(tf.matmul(X, W1) + B1)\n",
    "y = tf.nn.dropout(y, prob)\n",
    "\n",
    "y = tf.nn.relu(tf.matmul(y, W2) + B2)\n",
    "y = tf.nn.dropout(y, prob)\n",
    "\n",
    "y = tf.nn.relu(tf.matmul(y, W3) + B3)\n",
    "y = tf.nn.dropout(y, prob)\n",
    "\n",
    "y = tf.nn.relu(tf.matmul(y, W4) + B4)\n",
    "y = tf.nn.dropout(y, prob)\n",
    "\n",
    "y = tf.matmul(y, W5) + B5"
   ]
  },
  {
   "cell_type": "code",
   "execution_count": 32,
   "metadata": {
    "collapsed": true
   },
   "outputs": [],
   "source": [
    "cost = tf.reduce_mean(tf.nn.softmax_cross_entropy_with_logits(labels=y_, logits=y))"
   ]
  },
  {
   "cell_type": "code",
   "execution_count": 33,
   "metadata": {
    "collapsed": true
   },
   "outputs": [],
   "source": [
    "correct_prediction = tf.equal(tf.argmax(y, 1), tf.argmax(y_, 1))"
   ]
  },
  {
   "cell_type": "code",
   "execution_count": 34,
   "metadata": {
    "collapsed": true
   },
   "outputs": [],
   "source": [
    "accuracy = tf.reduce_mean(tf.cast(correct_prediction, tf.float32))"
   ]
  },
  {
   "cell_type": "code",
   "execution_count": 35,
   "metadata": {
    "collapsed": true
   },
   "outputs": [],
   "source": [
    "train = tf.train.AdamOptimizer(learning_rate).minimize(cost)"
   ]
  },
  {
   "cell_type": "code",
   "execution_count": 36,
   "metadata": {
    "collapsed": true
   },
   "outputs": [],
   "source": [
    "init = tf.global_variables_initializer()\n",
    "sess = tf.Session()\n",
    "sess.run(init)"
   ]
  },
  {
   "cell_type": "code",
   "execution_count": 37,
   "metadata": {
    "collapsed": false
   },
   "outputs": [
    {
     "name": "stdout",
     "output_type": "stream",
     "text": [
      "Epoch: 0, Loss: 2.315293550491333, Accuracy: 0.109375 \n",
      "Epoch: 1000, Loss: 0.5418054461479187, Accuracy: 0.8671875 \n",
      "Epoch: 2000, Loss: 0.4019949436187744, Accuracy: 0.828125 \n",
      "Epoch: 3000, Loss: 0.26780641078948975, Accuracy: 0.90625 \n",
      "Epoch: 4000, Loss: 0.30409663915634155, Accuracy: 0.8984375 \n",
      "Epoch: 5000, Loss: 0.27418267726898193, Accuracy: 0.9140625 \n",
      "Epoch: 6000, Loss: 0.36170607805252075, Accuracy: 0.8671875 \n",
      "Epoch: 7000, Loss: 0.25609341263771057, Accuracy: 0.921875 \n",
      "Epoch: 8000, Loss: 0.24351562559604645, Accuracy: 0.921875 \n",
      "Epoch: 9000, Loss: 0.268534779548645, Accuracy: 0.921875 \n"
     ]
    }
   ],
   "source": [
    "for i in range(10000):\n",
    "    batch_xs, batch_ys = data.train.next_batch(128)\n",
    "    max_learning_rate = 0.003\n",
    "    min_learning_rate = 0.0001\n",
    "    decay_speed = 2000.0 \n",
    "    lr = min_learning_rate + (max_learning_rate - min_learning_rate) * np.math.exp(-i/decay_speed)\n",
    "    \n",
    "    _, loss, acc = sess.run([train, cost, accuracy], feed_dict={X: batch_xs, y_: batch_ys, learning_rate : lr, prob : 0.75})\n",
    "    \n",
    "    if (i % 1000 == 0):\n",
    "        print(\"Epoch: {}, Loss: {}, Accuracy: {} \".format(i, loss, acc))"
   ]
  },
  {
   "cell_type": "code",
   "execution_count": 38,
   "metadata": {
    "collapsed": false
   },
   "outputs": [
    {
     "name": "stdout",
     "output_type": "stream",
     "text": [
      "Test Accuracy:[0.86909997]\n"
     ]
    }
   ],
   "source": [
    "print(\"Test Accuracy:{}\".format(sess.run([accuracy], feed_dict={X: data.test.images,\n",
    "                                      y_: data.test.labels, learning_rate : lr, prob : 0.75})))"
   ]
  },
  {
   "cell_type": "code",
   "execution_count": null,
   "metadata": {
    "collapsed": true
   },
   "outputs": [],
   "source": []
  }
 ],
 "metadata": {
  "kernelspec": {
   "display_name": "Python 3",
   "language": "python",
   "name": "python3"
  },
  "language_info": {
   "codemirror_mode": {
    "name": "ipython",
    "version": 3
   },
   "file_extension": ".py",
   "mimetype": "text/x-python",
   "name": "python",
   "nbconvert_exporter": "python",
   "pygments_lexer": "ipython3",
   "version": "3.6.0"
  }
 },
 "nbformat": 4,
 "nbformat_minor": 2
}
