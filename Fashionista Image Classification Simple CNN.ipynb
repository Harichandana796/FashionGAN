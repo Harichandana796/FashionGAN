{
 "cells": [
  {
   "cell_type": "code",
   "execution_count": 1,
   "metadata": {
    "collapsed": true
   },
   "outputs": [],
   "source": [
    "import numpy as np\n",
    "import tensorflow as tf\n",
    "import matplotlib.pyplot as plt"
   ]
  },
  {
   "cell_type": "code",
   "execution_count": 2,
   "metadata": {
    "collapsed": false
   },
   "outputs": [
    {
     "name": "stdout",
     "output_type": "stream",
     "text": [
      "Extracting data/fashion/train-images-idx3-ubyte.gz\n",
      "Extracting data/fashion/train-labels-idx1-ubyte.gz\n",
      "Extracting data/fashion/t10k-images-idx3-ubyte.gz\n",
      "Extracting data/fashion/t10k-labels-idx1-ubyte.gz\n"
     ]
    }
   ],
   "source": [
    "from tensorflow.examples.tutorials.mnist import input_data\n",
    "data = input_data.read_data_sets('data/fashion', one_hot=True, reshape=False)"
   ]
  },
  {
   "cell_type": "code",
   "execution_count": 3,
   "metadata": {
    "collapsed": true
   },
   "outputs": [],
   "source": [
    "X_train = data.train.images\n",
    "y_train = data.train.labels\n",
    "\n",
    "X_test = data.test.images\n",
    "y_test = data.test.labels"
   ]
  },
  {
   "cell_type": "code",
   "execution_count": 4,
   "metadata": {
    "collapsed": false
   },
   "outputs": [
    {
     "name": "stdout",
     "output_type": "stream",
     "text": [
      "(55000, 28, 28, 1)\n",
      "(55000, 10)\n"
     ]
    }
   ],
   "source": [
    "print (X_train.shape)\n",
    "print (y_train.shape)"
   ]
  },
  {
   "cell_type": "code",
   "execution_count": 5,
   "metadata": {
    "collapsed": true
   },
   "outputs": [],
   "source": [
    "index2label = {0 : \"T-shirt/top\",\n",
    "               1 : \"Trouser\",\n",
    "               2 : \"Pullover\",\n",
    "               3 : \"Dress\",\n",
    "               4 : \"Coat\",\n",
    "               5 : \"Sandal\",\n",
    "               6 : \"Shirt\",\n",
    "               7 : \"Sneaker\",\n",
    "               8 : \"Bag\",\n",
    "               9 : \"Ankle boot\",\n",
    "              }"
   ]
  },
  {
   "cell_type": "code",
   "execution_count": 6,
   "metadata": {
    "collapsed": true
   },
   "outputs": [],
   "source": [
    "def display_digit(x, y, i):\n",
    "    s = [i for i,x in enumerate(y_train[i]) if x == 1]\n",
    "    label = index2label.get(s[0])\n",
    "    image = x[i].reshape([28,28])\n",
    "    plt.title('Example: %d  Label: %s' % (i, label))\n",
    "    plt.imshow(image, cmap=plt.get_cmap('gray'))\n",
    "    plt.show()\n",
    "\n",
    "def display_mult_flat(start, stop, x):\n",
    "    images = x[start].reshape([1,784])\n",
    "    for i in range(start + 1, stop):\n",
    "        images = np.concatenate((images, x[i].reshape([1,784])))\n",
    "    plt.imshow(images, cmap=plt.get_cmap('gray'))\n",
    "    plt.show()"
   ]
  },
  {
   "cell_type": "code",
   "execution_count": 7,
   "metadata": {
    "collapsed": false
   },
   "outputs": [
    {
     "data": {
      "image/png": "[encoded data removed]",
      "text/plain": [
       "<matplotlib.figure.Figure at 0x118f41780>"
      ]
     },
     "metadata": {},
     "output_type": "display_data"
    }
   ],
   "source": [
    "display_digit(X_train, y_train, 33)"
   ]
  },
  {
   "cell_type": "code",
   "execution_count": 8,
   "metadata": {
    "collapsed": false
   },
   "outputs": [
    {
     "data": {
      "image/png": "[encoded data removed]",
      "text/plain": [
       "<matplotlib.figure.Figure at 0x11f5b1da0>"
      ]
     },
     "metadata": {},
     "output_type": "display_data"
    }
   ],
   "source": [
    "display_digit(X_train, y_train, 22)"
   ]
  },
  {
   "cell_type": "code",
   "execution_count": 9,
   "metadata": {
    "collapsed": true
   },
   "outputs": [],
   "source": [
    "X = tf.placeholder(tf.float32, shape=(None, 28, 28, 1))\n",
    "y_ = tf.placeholder(tf.float32, shape=(None, 10))"
   ]
  },
  {
   "cell_type": "code",
   "execution_count": 10,
   "metadata": {
    "collapsed": false
   },
   "outputs": [],
   "source": [
    "W1 = tf.Variable(tf.truncated_normal([5, 5, 1, 32], stddev=0.1))  # 5x5 patch, 1 input channel, K output channels\n",
    "B1 = tf.Variable(tf.ones([32])/10)\n",
    "\n",
    "W2 = tf.Variable(tf.truncated_normal([5, 5, 32, 64], stddev=0.1))\n",
    "B2 = tf.Variable(tf.ones([64])/10)\n",
    "\n",
    "W3 = tf.Variable(tf.truncated_normal([4, 4, 64, 128], stddev=0.1))\n",
    "B3 = tf.Variable(tf.ones([128])/10)\n",
    "\n",
    "W4 = tf.Variable(tf.truncated_normal([7 * 7 * 128, 256], stddev=0.1))\n",
    "B4 = tf.Variable(tf.ones([256])/10)\n",
    "\n",
    "W5 = tf.Variable(tf.truncated_normal([256, 10], stddev=0.1))\n",
    "B5 = tf.Variable(tf.ones([10])/10)"
   ]
  },
  {
   "cell_type": "code",
   "execution_count": 11,
   "metadata": {
    "collapsed": true
   },
   "outputs": [],
   "source": [
    "filter_stride_size_1 = 1\n",
    "filter_stride_size_2 = 2\n",
    "filter_stride_size_3 = 2\n",
    "pool_size = 2\n",
    "pool_stride = 1"
   ]
  },
  {
   "cell_type": "code",
   "execution_count": 12,
   "metadata": {
    "collapsed": false
   },
   "outputs": [],
   "source": [
    "L1 = tf.nn.conv2d(X, W1, strides = [1, filter_stride_size_1, filter_stride_size_1, 1], padding = \"SAME\")\n",
    "L1 = tf.nn.bias_add(L1, B1)\n",
    "L1 = tf.nn.relu(L1)\n",
    "L1 = tf.nn.max_pool(L1, ksize = [1, pool_size, pool_size, 1], strides = [1, pool_stride, pool_stride, 1],\n",
    "                               padding = \"SAME\")"
   ]
  },
  {
   "cell_type": "code",
   "execution_count": 13,
   "metadata": {
    "collapsed": false
   },
   "outputs": [],
   "source": [
    "L2 = tf.nn.conv2d(L1, W2, strides = [1, filter_stride_size_2, filter_stride_size_2, 1], padding = \"SAME\")\n",
    "L2 = tf.nn.bias_add(L2, B2)\n",
    "L2 = tf.nn.relu(L2)\n",
    "L2 = tf.nn.max_pool(L2, ksize = [1, pool_size, pool_size, 1], strides = [1, pool_stride, pool_stride, 1],\n",
    "                               padding = \"SAME\")"
   ]
  },
  {
   "cell_type": "code",
   "execution_count": 14,
   "metadata": {
    "collapsed": true
   },
   "outputs": [],
   "source": [
    "L3 = tf.nn.conv2d(L2, W3, strides = [1, filter_stride_size_3, filter_stride_size_3, 1], padding = \"SAME\")\n",
    "L3 = tf.nn.bias_add(L3, B3)\n",
    "L3 = tf.nn.relu(L3)\n",
    "L3 = tf.nn.max_pool(L3, ksize = [1, pool_size, pool_size, 1], strides = [1, pool_stride, pool_stride, 1],\n",
    "                               padding = \"SAME\")"
   ]
  },
  {
   "cell_type": "code",
   "execution_count": 15,
   "metadata": {
    "collapsed": false
   },
   "outputs": [],
   "source": [
    "L4 = tf.reshape(L3, [-1, 7*7*128])"
   ]
  },
  {
   "cell_type": "code",
   "execution_count": 16,
   "metadata": {
    "collapsed": false
   },
   "outputs": [],
   "source": [
    "L5 = tf.add(tf.matmul(L4, W4), B4)\n",
    "L5 = tf.nn.relu(L5)"
   ]
  },
  {
   "cell_type": "code",
   "execution_count": 17,
   "metadata": {
    "collapsed": false
   },
   "outputs": [
    {
     "data": {
      "text/plain": [
       "TensorShape([Dimension(None), Dimension(10)])"
      ]
     },
     "execution_count": 17,
     "metadata": {},
     "output_type": "execute_result"
    }
   ],
   "source": [
    "y = tf.add(tf.matmul(L5, W5), B5)\n",
    "y.shape\n",
    "#y_.shape"
   ]
  },
  {
   "cell_type": "code",
   "execution_count": 18,
   "metadata": {
    "collapsed": false
   },
   "outputs": [],
   "source": [
    "cost = tf.reduce_mean(tf.nn.softmax_cross_entropy_with_logits(logits = y, labels = y_)) "
   ]
  },
  {
   "cell_type": "code",
   "execution_count": 19,
   "metadata": {
    "collapsed": true
   },
   "outputs": [],
   "source": [
    "correct_prediction = tf.equal(tf.argmax(y, 1), tf.argmax(y_, 1))"
   ]
  },
  {
   "cell_type": "code",
   "execution_count": 20,
   "metadata": {
    "collapsed": true
   },
   "outputs": [],
   "source": [
    "accuracy = tf.reduce_mean(tf.cast(correct_prediction, tf.float32))"
   ]
  },
  {
   "cell_type": "code",
   "execution_count": 22,
   "metadata": {
    "collapsed": true
   },
   "outputs": [],
   "source": [
    "train = tf.train.AdamOptimizer(0.003).minimize(cost)"
   ]
  },
  {
   "cell_type": "code",
   "execution_count": 23,
   "metadata": {
    "collapsed": true
   },
   "outputs": [],
   "source": [
    "init = tf.global_variables_initializer()\n",
    "sess = tf.Session()\n",
    "sess.run(init)"
   ]
  },
  {
   "cell_type": "code",
   "execution_count": 27,
   "metadata": {
    "collapsed": false
   },
   "outputs": [
    {
     "name": "stdout",
     "output_type": "stream",
     "text": [
      "Epoch: 0, Loss: 0.5242922306060791, Accuracy: 0.8125 \n",
      "Epoch: 40, Loss: 0.3588685989379883, Accuracy: 0.8984375 \n",
      "Epoch: 80, Loss: 0.35609447956085205, Accuracy: 0.875 \n",
      "Epoch: 120, Loss: 0.36588385701179504, Accuracy: 0.875 \n",
      "Epoch: 160, Loss: 0.4428861737251282, Accuracy: 0.8359375 \n"
     ]
    }
   ],
   "source": [
    "for i in range(200):\n",
    "    batch_xs, batch_ys = data.train.next_batch(128)\n",
    "    _, loss, acc = sess.run([train, cost, accuracy], feed_dict={X: batch_xs, y_: batch_ys})\n",
    "    \n",
    "    if (i % 40 == 0):\n",
    "        print(\"Epoch: {}, Loss: {}, Accuracy: {} \".format(i, loss, acc))"
   ]
  },
  {
   "cell_type": "code",
   "execution_count": 28,
   "metadata": {
    "collapsed": false
   },
   "outputs": [
    {
     "name": "stdout",
     "output_type": "stream",
     "text": [
      "Test Accuracy:[0.86610001]\n"
     ]
    }
   ],
   "source": [
    "print(\"Test Accuracy:{}\".format(sess.run([accuracy], feed_dict={X: data.test.images,\n",
    "                                      y_: data.test.labels})))"
   ]
  },
  {
   "cell_type": "code",
   "execution_count": null,
   "metadata": {
    "collapsed": true
   },
   "outputs": [],
   "source": []
  }
 ],
 "metadata": {
  "kernelspec": {
   "display_name": "Python 3",
   "language": "python",
   "name": "python3"
  },
  "language_info": {
   "codemirror_mode": {
    "name": "ipython",
    "version": 3
   },
   "file_extension": ".py",
   "mimetype": "text/x-python",
   "name": "python",
   "nbconvert_exporter": "python",
   "pygments_lexer": "ipython3",
   "version": "3.6.0"
  }
 },
 "nbformat": 4,
 "nbformat_minor": 2
}
